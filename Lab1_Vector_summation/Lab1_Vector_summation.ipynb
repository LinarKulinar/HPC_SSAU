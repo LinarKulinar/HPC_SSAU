{
  "nbformat": 4,
  "nbformat_minor": 0,
  "metadata": {
    "colab": {
      "name": "Lab1_Vector_summation",
      "provenance": [],
      "collapsed_sections": [],
      "include_colab_link": true
    },
    "kernelspec": {
      "name": "python3",
      "display_name": "Python 3"
    },
    "accelerator": "GPU"
  },
  "cells": [
    {
      "cell_type": "markdown",
      "metadata": {
        "id": "view-in-github",
        "colab_type": "text"
      },
      "source": [
        "<a href=\"https://colab.research.google.com/github/LinarKulinar/HPC_SSAU/blob/master/Lab1_Vector_summation/Lab1_Vector_summation.ipynb\" target=\"_parent\"><img src=\"https://colab.research.google.com/assets/colab-badge.svg\" alt=\"Open In Colab\"/></a>"
      ]
    },
    {
      "cell_type": "markdown",
      "source": [
        "**Высокопроизводительные вычисления.**\n",
        "\n",
        "**Лабораторная 1. Сложение векторов на CPU и GPU.**\n",
        "\n",
        "Самарский университет"
      ],
      "metadata": {
        "id": "xNIt8pXK3co4"
      }
    },
    {
      "cell_type": "markdown",
      "source": [
        "В данном блокноте реализован алгоритм сложения векторов для CPU и для GPU.\n",
        "\n",
        "Для выполнения кода на C на GPU используется библиотека PyCuda.\n",
        "\n",
        "Данный код запущен в среде Google Colaboratory."
      ],
      "metadata": {
        "id": "8_OLzfKf3csd"
      }
    },
    {
      "cell_type": "code",
      "metadata": {
        "colab": {
          "base_uri": "https://localhost:8080/"
        },
        "id": "v-n9X5wWjRz_",
        "outputId": "66f399b4-e63d-439a-b8f1-b39ecbd9a0ec"
      },
      "source": [
        "! pip install pycuda"
      ],
      "execution_count": 31,
      "outputs": [
        {
          "output_type": "stream",
          "name": "stdout",
          "text": [
            "Requirement already satisfied: pycuda in /usr/local/lib/python3.7/dist-packages (2021.1)\n",
            "Requirement already satisfied: appdirs>=1.4.0 in /usr/local/lib/python3.7/dist-packages (from pycuda) (1.4.4)\n",
            "Requirement already satisfied: pytools>=2011.2 in /usr/local/lib/python3.7/dist-packages (from pycuda) (2021.2.9)\n",
            "Requirement already satisfied: mako in /usr/local/lib/python3.7/dist-packages (from pycuda) (1.1.6)\n",
            "Requirement already satisfied: numpy>=1.6.0 in /usr/local/lib/python3.7/dist-packages (from pytools>=2011.2->pycuda) (1.19.5)\n",
            "Requirement already satisfied: MarkupSafe>=0.9.2 in /usr/local/lib/python3.7/dist-packages (from mako->pycuda) (2.0.1)\n"
          ]
        }
      ]
    },
    {
      "cell_type": "code",
      "source": [
        "!nvidia-smi"
      ],
      "metadata": {
        "colab": {
          "base_uri": "https://localhost:8080/"
        },
        "id": "mhnJgV_VSMdl",
        "outputId": "68e4efba-23d6-4ba9-898b-984ebea700a4"
      },
      "execution_count": 32,
      "outputs": [
        {
          "output_type": "stream",
          "name": "stdout",
          "text": [
            "Sun Jan  9 15:57:39 2022       \n",
            "+-----------------------------------------------------------------------------+\n",
            "| NVIDIA-SMI 495.44       Driver Version: 460.32.03    CUDA Version: 11.2     |\n",
            "|-------------------------------+----------------------+----------------------+\n",
            "| GPU  Name        Persistence-M| Bus-Id        Disp.A | Volatile Uncorr. ECC |\n",
            "| Fan  Temp  Perf  Pwr:Usage/Cap|         Memory-Usage | GPU-Util  Compute M. |\n",
            "|                               |                      |               MIG M. |\n",
            "|===============================+======================+======================|\n",
            "|   0  Tesla K80           Off  | 00000000:00:04.0 Off |                    0 |\n",
            "| N/A   73C    P0    76W / 149W |     58MiB / 11441MiB |      0%      Default |\n",
            "|                               |                      |                  N/A |\n",
            "+-------------------------------+----------------------+----------------------+\n",
            "                                                                               \n",
            "+-----------------------------------------------------------------------------+\n",
            "| Processes:                                                                  |\n",
            "|  GPU   GI   CI        PID   Type   Process name                  GPU Memory |\n",
            "|        ID   ID                                                   Usage      |\n",
            "|=============================================================================|\n",
            "|  No running processes found                                                 |\n",
            "+-----------------------------------------------------------------------------+\n"
          ]
        }
      ]
    },
    {
      "cell_type": "code",
      "metadata": {
        "id": "zHpxjvTD6xmw"
      },
      "source": [
        "import numpy as np\n",
        "import time\n",
        "\n",
        "import pycuda.gpuarray as gpuarray\n",
        "import pycuda.autoinit\n",
        "from  pycuda import  driver\n",
        "from pycuda.compiler import SourceModule"
      ],
      "execution_count": 33,
      "outputs": []
    },
    {
      "cell_type": "markdown",
      "source": [
        "Определяем функцию сложения векторов на C, которая будет выполняться на GPU"
      ],
      "metadata": {
        "id": "EyAqTu9jh9Kk"
      }
    },
    {
      "cell_type": "code",
      "metadata": {
        "id": "h_Cr02Ct6_gl"
      },
      "source": [
        "mod = SourceModule(\"\"\"\n",
        "  __global__ void vec_sum_gpu(double *x, double *y, double *c_gpu, const int n) {  \n",
        "      int idx = threadIdx.x + (blockIdx.x*blockDim.x);\n",
        "      c_gpu[idx] = x[idx] + y[idx];\n",
        "  }    \n",
        "\"\"\")"
      ],
      "execution_count": 34,
      "outputs": []
    },
    {
      "cell_type": "markdown",
      "source": [
        "Определяем функцию сложения векторов на python, которая будет выполняться на CPU"
      ],
      "metadata": {
        "id": "GyLFcSFiiBnO"
      }
    },
    {
      "cell_type": "code",
      "metadata": {
        "id": "Q9WLFdwKBLvE"
      },
      "source": [
        "def vec_sum_cpu(x, y, n):\n",
        "  c = np.zeros(n)\n",
        "  for i in range(n):\n",
        "    c[i] = x[i] + y[i]\n",
        "  return c"
      ],
      "execution_count": 35,
      "outputs": []
    },
    {
      "cell_type": "markdown",
      "source": [
        "Вводим входные параметры задачи - размеры складываемых массивов"
      ],
      "metadata": {
        "id": "5qsYw-O6iPeK"
      }
    },
    {
      "cell_type": "code",
      "metadata": {
        "id": "PKVZouZREQTM"
      },
      "source": [
        "def generate_data():\n",
        "  n = int(input('Введите размер векторов = '))\n",
        "\n",
        "  x = np.random.randn(n).astype(np.float)\n",
        "  y = np.random.randn(n).astype(np.float)\n",
        "  print('Сгенерированные массивы: \\n', x, '\\n', y)\n",
        "  return x, y, n"
      ],
      "execution_count": 36,
      "outputs": []
    },
    {
      "cell_type": "code",
      "metadata": {
        "colab": {
          "base_uri": "https://localhost:8080/"
        },
        "id": "Vpq4NN11EbW-",
        "outputId": "55f3deca-420a-4a9c-fc9a-a4ab11b30e81"
      },
      "source": [
        "x, y, n = generate_data()"
      ],
      "execution_count": 37,
      "outputs": [
        {
          "output_type": "stream",
          "name": "stdout",
          "text": [
            "Введите размер векторов = 100000000\n",
            "Сгенерированные массивы: \n",
            " [ 0.679819    0.6515463  -1.51751742 ...  0.74754132  0.79676538\n",
            "  1.39315   ] \n",
            " [-1.21146089 -2.8443205  -0.68146343 ... -0.3140449  -0.6803967\n",
            " -0.15511029]\n"
          ]
        }
      ]
    },
    {
      "cell_type": "markdown",
      "source": [
        "Вычисляем на CPU, замеряя время"
      ],
      "metadata": {
        "id": "iJGguAVBiVt3"
      }
    },
    {
      "cell_type": "code",
      "metadata": {
        "id": "Odxn3tNfE7v7",
        "colab": {
          "base_uri": "https://localhost:8080/"
        },
        "outputId": "feef2c59-19b5-4861-8742-f71080fbf685"
      },
      "source": [
        "cpu_start = time.time()\n",
        "result_cpu = vec_sum_cpu(x,y, n)\n",
        "cpu_time = time.time() - cpu_start\n",
        "print('Результирующий вектор: ', result_cpu)\n",
        "print('Время на CPU: ', round(cpu_time,4))"
      ],
      "execution_count": 38,
      "outputs": [
        {
          "output_type": "stream",
          "name": "stdout",
          "text": [
            "Результирующий вектор:  [-0.53164189 -2.19277419 -2.19898084 ...  0.43349642  0.11636868\n",
            "  1.23803972]\n",
            "Время на CPU:  48.3547\n"
          ]
        }
      ]
    },
    {
      "cell_type": "markdown",
      "source": [
        "Вычисляем на GPU, замеряя время"
      ],
      "metadata": {
        "id": "BkDztU4kidGU"
      }
    },
    {
      "cell_type": "code",
      "metadata": {
        "id": "VPZrS4rdH7Q_",
        "colab": {
          "base_uri": "https://localhost:8080/"
        },
        "outputId": "f5fb6f7e-f892-45d5-c25e-ef839403d33a"
      },
      "source": [
        "# т.к. массивы являются одномерными\n",
        "block_size = 128\n",
        "block = (block_size, 1, 1)\n",
        "grid = (int((n + block_size - 1) / block_size), 1)\n",
        "block, grid"
      ],
      "execution_count": 39,
      "outputs": [
        {
          "output_type": "execute_result",
          "data": {
            "text/plain": [
              "((128, 1, 1), (781250, 1))"
            ]
          },
          "metadata": {},
          "execution_count": 39
        }
      ]
    },
    {
      "cell_type": "code",
      "metadata": {
        "id": "mxbylC24InsG",
        "colab": {
          "base_uri": "https://localhost:8080/"
        },
        "outputId": "7349799f-e0ad-4ff9-db09-3df36473c5fe"
      },
      "source": [
        "# c_gpu = np.ones(n).astype(np.float)\n",
        "result_gpu = gpuarray.zeros((n), dtype=np.double)\n",
        "result_gpu  = result_gpu.get()\n",
        "\n",
        "vec_sum_gpu = mod.get_function(\"vec_sum_gpu\")\n",
        "\n",
        "gpu_start = time.time()\n",
        "vec_sum_gpu(driver.In(x), driver.In(y), driver.Out(result_gpu), np.int32(n), block = block, grid = grid)\n",
        "driver.Context.synchronize()\n",
        "gpu_time = time.time() - gpu_start\n",
        "\n",
        "print('Результирующий вектор: ', result_gpu)\n",
        "print('Время на GPU: ', round(gpu_time,4))"
      ],
      "execution_count": 40,
      "outputs": [
        {
          "output_type": "stream",
          "name": "stdout",
          "text": [
            "Результирующий вектор:  [-0.53164189 -2.19277419 -2.19898084 ...  0.43349642  0.11636868\n",
            "  1.23803972]\n",
            "Время на GPU:  0.5042\n"
          ]
        }
      ]
    },
    {
      "cell_type": "markdown",
      "source": [
        "Выводим результаты"
      ],
      "metadata": {
        "id": "U1f-XoDDihcA"
      }
    },
    {
      "cell_type": "code",
      "metadata": {
        "id": "iOsEv3RKOGwM",
        "colab": {
          "base_uri": "https://localhost:8080/"
        },
        "outputId": "b3814ebd-f074-4d90-8e88-d963adaa84e9"
      },
      "source": [
        "print('Vector size: ', n)\n",
        "print('Results converge;  acceleration: ', round(cpu_time/gpu_time, 4)) if np.allclose(result_gpu, result_cpu) else print('Results do not converge')\n",
        "\n",
        "print('Time on GPU: ', round(gpu_time,4))\n",
        "print('Time on CPU: ', round(cpu_time,4))"
      ],
      "execution_count": 41,
      "outputs": [
        {
          "output_type": "stream",
          "name": "stdout",
          "text": [
            "Vector size:  100000000\n",
            "Results converge;  acceleration:  95.903\n",
            "Time on GPU:  0.5042\n",
            "Time on CPU:  48.3547\n"
          ]
        }
      ]
    },
    {
      "cell_type": "code",
      "source": [
        ""
      ],
      "metadata": {
        "id": "PHyna8zYhWJm"
      },
      "execution_count": 41,
      "outputs": []
    }
  ]
}