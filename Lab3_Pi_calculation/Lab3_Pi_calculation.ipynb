{
  "nbformat": 4,
  "nbformat_minor": 0,
  "metadata": {
    "colab": {
      "name": "Lab3_PiCalc.ipynb",
      "provenance": [],
      "include_colab_link": true
    },
    "kernelspec": {
      "name": "python3",
      "display_name": "Python 3"
    },
    "accelerator": "GPU"
  },
  "cells": [
    {
      "cell_type": "markdown",
      "metadata": {
        "id": "view-in-github",
        "colab_type": "text"
      },
      "source": [
        "<a href=\"https://colab.research.google.com/github/LinarKulinar/HPC_SSAU/blob/master/Lab3_Pi_calculation/Lab3_Pi_calculation.ipynb\" target=\"_parent\"><img src=\"https://colab.research.google.com/assets/colab-badge.svg\" alt=\"Open In Colab\"/></a>"
      ]
    },
    {
      "cell_type": "markdown",
      "source": [
        "**Высокопроизводительные вычисления.**\n",
        "\n",
        "**Лабораторная 3. Вычисление числа π методом Монте-Карло на CPU и GPU.**\n",
        "\n",
        "Самарский университет"
      ],
      "metadata": {
        "id": "xNIt8pXK3co4"
      }
    },
    {
      "cell_type": "markdown",
      "source": [
        "В данном блокноте реализован алгоритм вычисления числа $π$ методом Монте-Карло  для CPU и для GPU.\n",
        "\n",
        "Для выполнения кода на C на GPU используется библиотека PyCuda.\n",
        "Для генерации случайных чисел на GPU используется CURAND\n",
        "\n",
        "Данный код запущен в среде Google Colaboratory"
      ],
      "metadata": {
        "id": "8_OLzfKf3csd"
      }
    },
    {
      "cell_type": "code",
      "metadata": {
        "colab": {
          "base_uri": "https://localhost:8080/"
        },
        "id": "v-n9X5wWjRz_",
        "outputId": "7e464a23-df0b-4195-a7e3-27b4870c55d1"
      },
      "source": [
        "! pip install pycuda"
      ],
      "execution_count": 139,
      "outputs": [
        {
          "output_type": "stream",
          "name": "stdout",
          "text": [
            "Requirement already satisfied: pycuda in /usr/local/lib/python3.7/dist-packages (2021.1)\n",
            "Requirement already satisfied: appdirs>=1.4.0 in /usr/local/lib/python3.7/dist-packages (from pycuda) (1.4.4)\n",
            "Requirement already satisfied: mako in /usr/local/lib/python3.7/dist-packages (from pycuda) (1.1.6)\n",
            "Requirement already satisfied: pytools>=2011.2 in /usr/local/lib/python3.7/dist-packages (from pycuda) (2021.2.9)\n",
            "Requirement already satisfied: numpy>=1.6.0 in /usr/local/lib/python3.7/dist-packages (from pytools>=2011.2->pycuda) (1.19.5)\n",
            "Requirement already satisfied: MarkupSafe>=0.9.2 in /usr/local/lib/python3.7/dist-packages (from mako->pycuda) (2.0.1)\n"
          ]
        }
      ]
    },
    {
      "cell_type": "code",
      "metadata": {
        "id": "zHpxjvTD6xmw"
      },
      "source": [
        "import numpy as np\n",
        "import time\n",
        "\n",
        "import pycuda.gpuarray as gpuarray\n",
        "import pycuda.autoinit\n",
        "from  pycuda import  driver\n",
        "from pycuda.compiler import SourceModule"
      ],
      "execution_count": 140,
      "outputs": []
    },
    {
      "cell_type": "markdown",
      "metadata": {
        "id": "KS8tdRci8rnK"
      },
      "source": [
        "# Алгоритм GPU\n",
        "\n",
        "- Есть две последовательности: $x, y$ ;\n",
        "- Считаем $r = x^2 + y^2 $ ;\n",
        "- Если $r < 1 $, то возвращаем 1 (к счётчику прибавляем 1), иначе возвращаем 0 (оставляем значение счётчика без изменений);\n",
        "- Выполняется атомарная операция сложения;\n",
        "- Домножение на $4/n$ будет осуществлено позже.\n"
      ]
    },
    {
      "cell_type": "code",
      "metadata": {
        "id": "h_Cr02Ct6_gl"
      },
      "source": [
        "mod = SourceModule(\"\"\"\n",
        "  // переопределил неопределенную функцию atomicAdd(double* address, double val),\n",
        "  // копипастнув её из документации согласно совету на: \n",
        "  // https://forums.developer.nvidia.com/t/why-does-atomicadd-not-work-with-doubles-as-input/56429/7\n",
        "    #if __CUDA_ARCH__ < 600\n",
        "  __device__ double atomicAdd(double* address, double val)\n",
        "  {\n",
        "      unsigned long long int* address_as_ull =\n",
        "                                (unsigned long long int*)address;\n",
        "      unsigned long long int old = *address_as_ull, assumed;\n",
        "\n",
        "      do {\n",
        "          assumed = old;\n",
        "          old = atomicCAS(address_as_ull, assumed,\n",
        "                          __double_as_longlong(val +\n",
        "                                __longlong_as_double(assumed)));\n",
        "\n",
        "      // Note: uses integer comparison to avoid hang in case of NaN (since NaN != NaN)\n",
        "      } while (assumed != old);\n",
        "\n",
        "      return __longlong_as_double(old);\n",
        "  }\n",
        "  #endif\n",
        "\n",
        "  __global__ void pi_mc_calc_gpu(double *x, double *y, double *result_gpu, const int n) {\n",
        "        \n",
        "        double gpu_count = 0;\n",
        "        int idx = threadIdx.x + (blockIdx.x*blockDim.x);\n",
        "        int thread_count = gridDim.x*blockDim.x;\n",
        "\n",
        "        for (int i=idx; i<n; i += thread_count) {\n",
        "          int temp;\n",
        "          temp = pow(x[i], 2) + pow(y[i], 2);\n",
        "          if (temp < 1)\n",
        "            gpu_count += 1;\n",
        "          \n",
        "        }\n",
        "\n",
        "        atomicAdd(result_gpu, gpu_count);\n",
        "  }    \n",
        "\"\"\")"
      ],
      "execution_count": 141,
      "outputs": []
    },
    {
      "cell_type": "markdown",
      "metadata": {
        "id": "8Jj5OkLsM9nF"
      },
      "source": [
        "# Алгоритм CPU\n",
        "\n",
        "- На вход подаются также две последовательности $x,y$ (и число точек $n$);\n",
        "- Считаем $r = x^2 + y^2 $ ;\n",
        "- Если $r < 1 $, то возвращаем 1 (к счётчику прибавляем 1), иначе возвращаем 0 (оставляем значение счётчика без изменений);\n",
        "- Умножение на $4/n$."
      ]
    },
    {
      "cell_type": "code",
      "metadata": {
        "id": "Q9WLFdwKBLvE"
      },
      "source": [
        "def pi_mc_calc_cpu(x, y, n):\n",
        "  r = x ** 2 + y ** 2\n",
        "  gen_cpu = [1 for i in range(n) if r[i] < 1]\n",
        "  result = 4/n * sum(gen_cpu)\n",
        "  return result"
      ],
      "execution_count": 142,
      "outputs": []
    },
    {
      "cell_type": "markdown",
      "metadata": {
        "id": "-UuU9ynuTVGg"
      },
      "source": [
        "В задании указано, что массив x и y необходимо генерировать на GPU для GPU-вычислений.\n",
        "\n",
        "Для CPU-вычислений массивы преобразовываются в ndarray функцией get()."
      ]
    },
    {
      "cell_type": "code",
      "metadata": {
        "id": "PKVZouZREQTM"
      },
      "source": [
        " from pycuda.curandom import rand as curand\n",
        "\n",
        "def generate_data():\n",
        "  print('Введите число точек: ')\n",
        "  n = int(input())\n",
        "  assert n % 16 ==  0, 'вводимое число должно быть кратно 16'\n",
        "  print('Введенное число точек: ', n)\n",
        "\n",
        "  x_gpu = curand((n,), dtype=np.double) \n",
        "  y_gpu = curand((n,), dtype=np.double)\n",
        "  x = x_gpu.get().astype(np.double)\n",
        "  y = y_gpu.get().astype(np.double)\n",
        "  print('Сгенерированные массивы: \\n', x, '\\n', y)\n",
        "  return x, y, n"
      ],
      "execution_count": 143,
      "outputs": []
    },
    {
      "cell_type": "code",
      "metadata": {
        "colab": {
          "base_uri": "https://localhost:8080/"
        },
        "id": "Vpq4NN11EbW-",
        "outputId": "d3484706-7d05-47fd-a464-b99d6d6477ee"
      },
      "source": [
        "x, y, n = generate_data()"
      ],
      "execution_count": 144,
      "outputs": [
        {
          "output_type": "stream",
          "name": "stdout",
          "text": [
            "Введите число точек: \n",
            "33554432\n",
            "Введенное число точек:  33554432\n",
            "Сгенерированные массивы: \n",
            " [0.74857409 0.77240791 0.51342023 ... 0.21594174 0.22142726 0.69818983] \n",
            " [0.73297373 0.70718343 0.03456352 ... 0.84960281 0.53652539 0.95903933]\n"
          ]
        }
      ]
    },
    {
      "cell_type": "code",
      "metadata": {
        "id": "Odxn3tNfE7v7",
        "colab": {
          "base_uri": "https://localhost:8080/"
        },
        "outputId": "852d1f8a-15fe-4523-9caf-6a34c848eac2"
      },
      "source": [
        "cpu_start = time.time()\n",
        "result_cpu = pi_mc_calc_cpu(x,y, n)\n",
        "cpu_time = time.time() - cpu_start\n",
        "print('Число pi: ', result_cpu)\n",
        "print('Время на CPU: ', round(cpu_time,4))"
      ],
      "execution_count": 145,
      "outputs": [
        {
          "output_type": "stream",
          "name": "stdout",
          "text": [
            "Число pi:  3.141301989555359\n",
            "Время на CPU:  15.8091\n"
          ]
        }
      ]
    },
    {
      "cell_type": "code",
      "metadata": {
        "id": "VPZrS4rdH7Q_"
      },
      "source": [
        "# т.к. массивы точек являются одномерными\n",
        "block = (128, 1, 1)\n",
        "grid = (int(n/(128 * block[0])), 1)\n",
        "\n",
        "result_gpu = gpuarray.zeros((1,), dtype=np.double)\n",
        "result_gpu  = result_gpu.get()"
      ],
      "execution_count": 146,
      "outputs": []
    },
    {
      "cell_type": "code",
      "metadata": {
        "id": "mxbylC24InsG",
        "colab": {
          "base_uri": "https://localhost:8080/"
        },
        "outputId": "615bb5ac-1471-4c21-fac5-332bce8acbc5"
      },
      "source": [
        "calc_gpu = mod.get_function(\"pi_mc_calc_gpu\")\n",
        "\n",
        "gpu_start = time.time()\n",
        "calc_gpu(driver.In(x), driver.In(y), driver.Out(result_gpu), np.int32(n), block = block, grid = grid)\n",
        "driver.Context.synchronize()\n",
        "gpu_time = time.time() - gpu_start\n",
        "\n",
        "result_gpu =  result_gpu[0] * 4/n\n",
        "print('Число pi: ', result_gpu)\n",
        "print('Время на GPU: ', round(gpu_time,4))"
      ],
      "execution_count": 147,
      "outputs": [
        {
          "output_type": "stream",
          "name": "stdout",
          "text": [
            "Число pi:  3.141301989555359\n",
            "Время на GPU:  3.8676\n"
          ]
        }
      ]
    },
    {
      "cell_type": "code",
      "metadata": {
        "id": "iOsEv3RKOGwM",
        "colab": {
          "base_uri": "https://localhost:8080/"
        },
        "outputId": "677b207b-b24c-47bc-cf72-80b79ff4e935"
      },
      "source": [
        "print('Ускорение: ', cpu_time/gpu_time)\n",
        "print('Сравнение с числом pi: ')\n",
        "print('GPU:', abs(np.pi -  result_gpu) )\n",
        "print('CPU:', abs(np.pi -  result_cpu) )"
      ],
      "execution_count": 148,
      "outputs": [
        {
          "output_type": "stream",
          "name": "stdout",
          "text": [
            "Ускорение:  4.0876067211648195\n",
            "Сравнение с числом pi: \n",
            "GPU: 0.0002906640344342293\n",
            "CPU: 0.0002906640344342293\n"
          ]
        }
      ]
    }
  ]
}