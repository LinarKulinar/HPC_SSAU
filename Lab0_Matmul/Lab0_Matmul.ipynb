{
  "nbformat": 4,
  "nbformat_minor": 0,
  "metadata": {
    "colab": {
      "name": "Lab0_Matmul.ipynb",
      "provenance": [],
      "collapsed_sections": [],
      "authorship_tag": "ABX9TyNIfKQwAHZXz9tEVnMlBKst",
      "include_colab_link": true
    },
    "kernelspec": {
      "name": "python3",
      "display_name": "Python 3"
    },
    "language_info": {
      "name": "python"
    },
    "accelerator": "GPU"
  },
  "cells": [
    {
      "cell_type": "markdown",
      "metadata": {
        "id": "view-in-github",
        "colab_type": "text"
      },
      "source": [
        "<a href=\"https://colab.research.google.com/github/LinarKulinar/HPC_SSAU/blob/master/Lab0_Matmul/Lab0_Matmul.ipynb\" target=\"_parent\"><img src=\"https://colab.research.google.com/assets/colab-badge.svg\" alt=\"Open In Colab\"/></a>"
      ]
    },
    {
      "cell_type": "markdown",
      "source": [
        "**Высокопроизводительные вычисления.**\n",
        "\n",
        "**Лабораторная 0. Сравнение времени перемножения матриц на CPU и GPU.**\n",
        "\n",
        "Самарский университет"
      ],
      "metadata": {
        "id": "pfEX_aXa6pAp"
      }
    },
    {
      "cell_type": "markdown",
      "source": [
        "В данном блокноте реализован алгоритм перемножения матриц на языке python для CPU и для GPU.\n",
        "\n",
        "Для перемножения матриц на GPU используется библиотека PyCuda.\n",
        "\n",
        "Данный код запущен в среде Google Colaboratory"
      ],
      "metadata": {
        "id": "NPt24ekZ7fKN"
      }
    },
    {
      "cell_type": "code",
      "source": [
        "! pip install pycuda"
      ],
      "metadata": {
        "colab": {
          "base_uri": "https://localhost:8080/"
        },
        "id": "eNol_F0Z69Ef",
        "outputId": "93663ab6-0bd9-46db-924c-db79b23d1e8a"
      },
      "execution_count": 1,
      "outputs": [
        {
          "output_type": "stream",
          "name": "stdout",
          "text": [
            "Collecting pycuda\n",
            "  Downloading pycuda-2021.1.tar.gz (1.7 MB)\n",
            "\u001b[?25l\r\u001b[K     |▏                               | 10 kB 22.6 MB/s eta 0:00:01\r\u001b[K     |▍                               | 20 kB 9.8 MB/s eta 0:00:01\r\u001b[K     |▋                               | 30 kB 8.3 MB/s eta 0:00:01\r\u001b[K     |▉                               | 40 kB 7.5 MB/s eta 0:00:01\r\u001b[K     |█                               | 51 kB 5.2 MB/s eta 0:00:01\r\u001b[K     |█▏                              | 61 kB 5.4 MB/s eta 0:00:01\r\u001b[K     |█▍                              | 71 kB 5.5 MB/s eta 0:00:01\r\u001b[K     |█▋                              | 81 kB 6.1 MB/s eta 0:00:01\r\u001b[K     |█▊                              | 92 kB 4.6 MB/s eta 0:00:01\r\u001b[K     |██                              | 102 kB 5.0 MB/s eta 0:00:01\r\u001b[K     |██▏                             | 112 kB 5.0 MB/s eta 0:00:01\r\u001b[K     |██▍                             | 122 kB 5.0 MB/s eta 0:00:01\r\u001b[K     |██▌                             | 133 kB 5.0 MB/s eta 0:00:01\r\u001b[K     |██▊                             | 143 kB 5.0 MB/s eta 0:00:01\r\u001b[K     |███                             | 153 kB 5.0 MB/s eta 0:00:01\r\u001b[K     |███▏                            | 163 kB 5.0 MB/s eta 0:00:01\r\u001b[K     |███▎                            | 174 kB 5.0 MB/s eta 0:00:01\r\u001b[K     |███▌                            | 184 kB 5.0 MB/s eta 0:00:01\r\u001b[K     |███▊                            | 194 kB 5.0 MB/s eta 0:00:01\r\u001b[K     |████                            | 204 kB 5.0 MB/s eta 0:00:01\r\u001b[K     |████                            | 215 kB 5.0 MB/s eta 0:00:01\r\u001b[K     |████▎                           | 225 kB 5.0 MB/s eta 0:00:01\r\u001b[K     |████▌                           | 235 kB 5.0 MB/s eta 0:00:01\r\u001b[K     |████▊                           | 245 kB 5.0 MB/s eta 0:00:01\r\u001b[K     |████▉                           | 256 kB 5.0 MB/s eta 0:00:01\r\u001b[K     |█████                           | 266 kB 5.0 MB/s eta 0:00:01\r\u001b[K     |█████▎                          | 276 kB 5.0 MB/s eta 0:00:01\r\u001b[K     |█████▌                          | 286 kB 5.0 MB/s eta 0:00:01\r\u001b[K     |█████▋                          | 296 kB 5.0 MB/s eta 0:00:01\r\u001b[K     |█████▉                          | 307 kB 5.0 MB/s eta 0:00:01\r\u001b[K     |██████                          | 317 kB 5.0 MB/s eta 0:00:01\r\u001b[K     |██████▎                         | 327 kB 5.0 MB/s eta 0:00:01\r\u001b[K     |██████▍                         | 337 kB 5.0 MB/s eta 0:00:01\r\u001b[K     |██████▋                         | 348 kB 5.0 MB/s eta 0:00:01\r\u001b[K     |██████▉                         | 358 kB 5.0 MB/s eta 0:00:01\r\u001b[K     |███████                         | 368 kB 5.0 MB/s eta 0:00:01\r\u001b[K     |███████▏                        | 378 kB 5.0 MB/s eta 0:00:01\r\u001b[K     |███████▍                        | 389 kB 5.0 MB/s eta 0:00:01\r\u001b[K     |███████▋                        | 399 kB 5.0 MB/s eta 0:00:01\r\u001b[K     |███████▉                        | 409 kB 5.0 MB/s eta 0:00:01\r\u001b[K     |████████                        | 419 kB 5.0 MB/s eta 0:00:01\r\u001b[K     |████████▏                       | 430 kB 5.0 MB/s eta 0:00:01\r\u001b[K     |████████▍                       | 440 kB 5.0 MB/s eta 0:00:01\r\u001b[K     |████████▋                       | 450 kB 5.0 MB/s eta 0:00:01\r\u001b[K     |████████▊                       | 460 kB 5.0 MB/s eta 0:00:01\r\u001b[K     |█████████                       | 471 kB 5.0 MB/s eta 0:00:01\r\u001b[K     |█████████▏                      | 481 kB 5.0 MB/s eta 0:00:01\r\u001b[K     |█████████▍                      | 491 kB 5.0 MB/s eta 0:00:01\r\u001b[K     |█████████▌                      | 501 kB 5.0 MB/s eta 0:00:01\r\u001b[K     |█████████▊                      | 512 kB 5.0 MB/s eta 0:00:01\r\u001b[K     |██████████                      | 522 kB 5.0 MB/s eta 0:00:01\r\u001b[K     |██████████▏                     | 532 kB 5.0 MB/s eta 0:00:01\r\u001b[K     |██████████▎                     | 542 kB 5.0 MB/s eta 0:00:01\r\u001b[K     |██████████▌                     | 552 kB 5.0 MB/s eta 0:00:01\r\u001b[K     |██████████▊                     | 563 kB 5.0 MB/s eta 0:00:01\r\u001b[K     |███████████                     | 573 kB 5.0 MB/s eta 0:00:01\r\u001b[K     |███████████                     | 583 kB 5.0 MB/s eta 0:00:01\r\u001b[K     |███████████▎                    | 593 kB 5.0 MB/s eta 0:00:01\r\u001b[K     |███████████▌                    | 604 kB 5.0 MB/s eta 0:00:01\r\u001b[K     |███████████▊                    | 614 kB 5.0 MB/s eta 0:00:01\r\u001b[K     |███████████▉                    | 624 kB 5.0 MB/s eta 0:00:01\r\u001b[K     |████████████                    | 634 kB 5.0 MB/s eta 0:00:01\r\u001b[K     |████████████▎                   | 645 kB 5.0 MB/s eta 0:00:01\r\u001b[K     |████████████▌                   | 655 kB 5.0 MB/s eta 0:00:01\r\u001b[K     |████████████▋                   | 665 kB 5.0 MB/s eta 0:00:01\r\u001b[K     |████████████▉                   | 675 kB 5.0 MB/s eta 0:00:01\r\u001b[K     |█████████████                   | 686 kB 5.0 MB/s eta 0:00:01\r\u001b[K     |█████████████▎                  | 696 kB 5.0 MB/s eta 0:00:01\r\u001b[K     |█████████████▍                  | 706 kB 5.0 MB/s eta 0:00:01\r\u001b[K     |█████████████▋                  | 716 kB 5.0 MB/s eta 0:00:01\r\u001b[K     |█████████████▉                  | 727 kB 5.0 MB/s eta 0:00:01\r\u001b[K     |██████████████                  | 737 kB 5.0 MB/s eta 0:00:01\r\u001b[K     |██████████████▏                 | 747 kB 5.0 MB/s eta 0:00:01\r\u001b[K     |██████████████▍                 | 757 kB 5.0 MB/s eta 0:00:01\r\u001b[K     |██████████████▋                 | 768 kB 5.0 MB/s eta 0:00:01\r\u001b[K     |██████████████▉                 | 778 kB 5.0 MB/s eta 0:00:01\r\u001b[K     |███████████████                 | 788 kB 5.0 MB/s eta 0:00:01\r\u001b[K     |███████████████▏                | 798 kB 5.0 MB/s eta 0:00:01\r\u001b[K     |███████████████▍                | 808 kB 5.0 MB/s eta 0:00:01\r\u001b[K     |███████████████▋                | 819 kB 5.0 MB/s eta 0:00:01\r\u001b[K     |███████████████▊                | 829 kB 5.0 MB/s eta 0:00:01\r\u001b[K     |████████████████                | 839 kB 5.0 MB/s eta 0:00:01\r\u001b[K     |████████████████▏               | 849 kB 5.0 MB/s eta 0:00:01\r\u001b[K     |████████████████▍               | 860 kB 5.0 MB/s eta 0:00:01\r\u001b[K     |████████████████▌               | 870 kB 5.0 MB/s eta 0:00:01\r\u001b[K     |████████████████▊               | 880 kB 5.0 MB/s eta 0:00:01\r\u001b[K     |█████████████████               | 890 kB 5.0 MB/s eta 0:00:01\r\u001b[K     |█████████████████▏              | 901 kB 5.0 MB/s eta 0:00:01\r\u001b[K     |█████████████████▍              | 911 kB 5.0 MB/s eta 0:00:01\r\u001b[K     |█████████████████▌              | 921 kB 5.0 MB/s eta 0:00:01\r\u001b[K     |█████████████████▊              | 931 kB 5.0 MB/s eta 0:00:01\r\u001b[K     |██████████████████              | 942 kB 5.0 MB/s eta 0:00:01\r\u001b[K     |██████████████████▏             | 952 kB 5.0 MB/s eta 0:00:01\r\u001b[K     |██████████████████▎             | 962 kB 5.0 MB/s eta 0:00:01\r\u001b[K     |██████████████████▌             | 972 kB 5.0 MB/s eta 0:00:01\r\u001b[K     |██████████████████▊             | 983 kB 5.0 MB/s eta 0:00:01\r\u001b[K     |███████████████████             | 993 kB 5.0 MB/s eta 0:00:01\r\u001b[K     |███████████████████             | 1.0 MB 5.0 MB/s eta 0:00:01\r\u001b[K     |███████████████████▎            | 1.0 MB 5.0 MB/s eta 0:00:01\r\u001b[K     |███████████████████▌            | 1.0 MB 5.0 MB/s eta 0:00:01\r\u001b[K     |███████████████████▊            | 1.0 MB 5.0 MB/s eta 0:00:01\r\u001b[K     |███████████████████▉            | 1.0 MB 5.0 MB/s eta 0:00:01\r\u001b[K     |████████████████████            | 1.1 MB 5.0 MB/s eta 0:00:01\r\u001b[K     |████████████████████▎           | 1.1 MB 5.0 MB/s eta 0:00:01\r\u001b[K     |████████████████████▌           | 1.1 MB 5.0 MB/s eta 0:00:01\r\u001b[K     |████████████████████▋           | 1.1 MB 5.0 MB/s eta 0:00:01\r\u001b[K     |████████████████████▉           | 1.1 MB 5.0 MB/s eta 0:00:01\r\u001b[K     |█████████████████████           | 1.1 MB 5.0 MB/s eta 0:00:01\r\u001b[K     |█████████████████████▎          | 1.1 MB 5.0 MB/s eta 0:00:01\r\u001b[K     |█████████████████████▍          | 1.1 MB 5.0 MB/s eta 0:00:01\r\u001b[K     |█████████████████████▋          | 1.1 MB 5.0 MB/s eta 0:00:01\r\u001b[K     |█████████████████████▉          | 1.1 MB 5.0 MB/s eta 0:00:01\r\u001b[K     |██████████████████████          | 1.2 MB 5.0 MB/s eta 0:00:01\r\u001b[K     |██████████████████████▏         | 1.2 MB 5.0 MB/s eta 0:00:01\r\u001b[K     |██████████████████████▍         | 1.2 MB 5.0 MB/s eta 0:00:01\r\u001b[K     |██████████████████████▋         | 1.2 MB 5.0 MB/s eta 0:00:01\r\u001b[K     |██████████████████████▉         | 1.2 MB 5.0 MB/s eta 0:00:01\r\u001b[K     |███████████████████████         | 1.2 MB 5.0 MB/s eta 0:00:01\r\u001b[K     |███████████████████████▏        | 1.2 MB 5.0 MB/s eta 0:00:01\r\u001b[K     |███████████████████████▍        | 1.2 MB 5.0 MB/s eta 0:00:01\r\u001b[K     |███████████████████████▋        | 1.2 MB 5.0 MB/s eta 0:00:01\r\u001b[K     |███████████████████████▊        | 1.2 MB 5.0 MB/s eta 0:00:01\r\u001b[K     |████████████████████████        | 1.3 MB 5.0 MB/s eta 0:00:01\r\u001b[K     |████████████████████████▏       | 1.3 MB 5.0 MB/s eta 0:00:01\r\u001b[K     |████████████████████████▍       | 1.3 MB 5.0 MB/s eta 0:00:01\r\u001b[K     |████████████████████████▌       | 1.3 MB 5.0 MB/s eta 0:00:01\r\u001b[K     |████████████████████████▊       | 1.3 MB 5.0 MB/s eta 0:00:01\r\u001b[K     |█████████████████████████       | 1.3 MB 5.0 MB/s eta 0:00:01\r\u001b[K     |█████████████████████████▏      | 1.3 MB 5.0 MB/s eta 0:00:01\r\u001b[K     |█████████████████████████▎      | 1.3 MB 5.0 MB/s eta 0:00:01\r\u001b[K     |█████████████████████████▌      | 1.3 MB 5.0 MB/s eta 0:00:01\r\u001b[K     |█████████████████████████▊      | 1.4 MB 5.0 MB/s eta 0:00:01\r\u001b[K     |██████████████████████████      | 1.4 MB 5.0 MB/s eta 0:00:01\r\u001b[K     |██████████████████████████      | 1.4 MB 5.0 MB/s eta 0:00:01\r\u001b[K     |██████████████████████████▎     | 1.4 MB 5.0 MB/s eta 0:00:01\r\u001b[K     |██████████████████████████▌     | 1.4 MB 5.0 MB/s eta 0:00:01\r\u001b[K     |██████████████████████████▊     | 1.4 MB 5.0 MB/s eta 0:00:01\r\u001b[K     |██████████████████████████▉     | 1.4 MB 5.0 MB/s eta 0:00:01\r\u001b[K     |███████████████████████████     | 1.4 MB 5.0 MB/s eta 0:00:01\r\u001b[K     |███████████████████████████▎    | 1.4 MB 5.0 MB/s eta 0:00:01\r\u001b[K     |███████████████████████████▌    | 1.4 MB 5.0 MB/s eta 0:00:01\r\u001b[K     |███████████████████████████▋    | 1.5 MB 5.0 MB/s eta 0:00:01\r\u001b[K     |███████████████████████████▉    | 1.5 MB 5.0 MB/s eta 0:00:01\r\u001b[K     |████████████████████████████    | 1.5 MB 5.0 MB/s eta 0:00:01\r\u001b[K     |████████████████████████████▎   | 1.5 MB 5.0 MB/s eta 0:00:01\r\u001b[K     |████████████████████████████▍   | 1.5 MB 5.0 MB/s eta 0:00:01\r\u001b[K     |████████████████████████████▋   | 1.5 MB 5.0 MB/s eta 0:00:01\r\u001b[K     |████████████████████████████▉   | 1.5 MB 5.0 MB/s eta 0:00:01\r\u001b[K     |█████████████████████████████   | 1.5 MB 5.0 MB/s eta 0:00:01\r\u001b[K     |█████████████████████████████▏  | 1.5 MB 5.0 MB/s eta 0:00:01\r\u001b[K     |█████████████████████████████▍  | 1.5 MB 5.0 MB/s eta 0:00:01\r\u001b[K     |█████████████████████████████▋  | 1.6 MB 5.0 MB/s eta 0:00:01\r\u001b[K     |█████████████████████████████▉  | 1.6 MB 5.0 MB/s eta 0:00:01\r\u001b[K     |██████████████████████████████  | 1.6 MB 5.0 MB/s eta 0:00:01\r\u001b[K     |██████████████████████████████▏ | 1.6 MB 5.0 MB/s eta 0:00:01\r\u001b[K     |██████████████████████████████▍ | 1.6 MB 5.0 MB/s eta 0:00:01\r\u001b[K     |██████████████████████████████▋ | 1.6 MB 5.0 MB/s eta 0:00:01\r\u001b[K     |██████████████████████████████▊ | 1.6 MB 5.0 MB/s eta 0:00:01\r\u001b[K     |███████████████████████████████ | 1.6 MB 5.0 MB/s eta 0:00:01\r\u001b[K     |███████████████████████████████▏| 1.6 MB 5.0 MB/s eta 0:00:01\r\u001b[K     |███████████████████████████████▍| 1.6 MB 5.0 MB/s eta 0:00:01\r\u001b[K     |███████████████████████████████▌| 1.7 MB 5.0 MB/s eta 0:00:01\r\u001b[K     |███████████████████████████████▊| 1.7 MB 5.0 MB/s eta 0:00:01\r\u001b[K     |████████████████████████████████| 1.7 MB 5.0 MB/s eta 0:00:01\r\u001b[K     |████████████████████████████████| 1.7 MB 5.0 MB/s \n",
            "\u001b[?25h  Installing build dependencies ... \u001b[?25l\u001b[?25hdone\n",
            "  Getting requirements to build wheel ... \u001b[?25l\u001b[?25hdone\n",
            "    Preparing wheel metadata ... \u001b[?25l\u001b[?25hdone\n",
            "Requirement already satisfied: appdirs>=1.4.0 in /usr/local/lib/python3.7/dist-packages (from pycuda) (1.4.4)\n",
            "Collecting pytools>=2011.2\n",
            "  Downloading pytools-2021.2.9.tar.gz (66 kB)\n",
            "\u001b[K     |████████████████████████████████| 66 kB 4.3 MB/s \n",
            "\u001b[?25hCollecting mako\n",
            "  Downloading Mako-1.1.6-py2.py3-none-any.whl (75 kB)\n",
            "\u001b[K     |████████████████████████████████| 75 kB 4.2 MB/s \n",
            "\u001b[?25hRequirement already satisfied: numpy>=1.6.0 in /usr/local/lib/python3.7/dist-packages (from pytools>=2011.2->pycuda) (1.19.5)\n",
            "Requirement already satisfied: MarkupSafe>=0.9.2 in /usr/local/lib/python3.7/dist-packages (from mako->pycuda) (2.0.1)\n",
            "Building wheels for collected packages: pycuda, pytools\n",
            "  Building wheel for pycuda (PEP 517) ... \u001b[?25l\u001b[?25hdone\n",
            "  Created wheel for pycuda: filename=pycuda-2021.1-cp37-cp37m-linux_x86_64.whl size=626633 sha256=911b770fbb9401936ac4e1295afc2b7c51cb90da37a0d95e61152294caf408ee\n",
            "  Stored in directory: /root/.cache/pip/wheels/c4/ef/49/dc6a5feb8d980b37c83d465ecab24949a6aa19458522a9e001\n",
            "  Building wheel for pytools (setup.py) ... \u001b[?25l\u001b[?25hdone\n",
            "  Created wheel for pytools: filename=pytools-2021.2.9-py2.py3-none-any.whl size=62370 sha256=e5391f69ca593cb1e6eb4b0aa7e17ffa068b1a2392e3f0a14c010fd6bd3276c6\n",
            "  Stored in directory: /root/.cache/pip/wheels/41/b9/6e/94bb014f6484b15ec77e7877f3a227609481ffd98db364504d\n",
            "Successfully built pycuda pytools\n",
            "Installing collected packages: pytools, mako, pycuda\n",
            "Successfully installed mako-1.1.6 pycuda-2021.1 pytools-2021.2.9\n"
          ]
        }
      ]
    },
    {
      "cell_type": "code",
      "source": [
        "!nvidia-smi"
      ],
      "metadata": {
        "colab": {
          "base_uri": "https://localhost:8080/"
        },
        "id": "dNwIEYzD78et",
        "outputId": "b94e7ed8-6295-4dd7-fd45-08f4bc2c0e52"
      },
      "execution_count": 2,
      "outputs": [
        {
          "output_type": "stream",
          "name": "stdout",
          "text": [
            "Sat Jan  8 20:10:31 2022       \n",
            "+-----------------------------------------------------------------------------+\n",
            "| NVIDIA-SMI 495.44       Driver Version: 460.32.03    CUDA Version: 11.2     |\n",
            "|-------------------------------+----------------------+----------------------+\n",
            "| GPU  Name        Persistence-M| Bus-Id        Disp.A | Volatile Uncorr. ECC |\n",
            "| Fan  Temp  Perf  Pwr:Usage/Cap|         Memory-Usage | GPU-Util  Compute M. |\n",
            "|                               |                      |               MIG M. |\n",
            "|===============================+======================+======================|\n",
            "|   0  Tesla K80           Off  | 00000000:00:04.0 Off |                    0 |\n",
            "| N/A   69C    P8    35W / 149W |      0MiB / 11441MiB |      0%      Default |\n",
            "|                               |                      |                  N/A |\n",
            "+-------------------------------+----------------------+----------------------+\n",
            "                                                                               \n",
            "+-----------------------------------------------------------------------------+\n",
            "| Processes:                                                                  |\n",
            "|  GPU   GI   CI        PID   Type   Process name                  GPU Memory |\n",
            "|        ID   ID                                                   Usage      |\n",
            "|=============================================================================|\n",
            "|  No running processes found                                                 |\n",
            "+-----------------------------------------------------------------------------+\n"
          ]
        }
      ]
    },
    {
      "cell_type": "code",
      "source": [
        "!lscpu |grep 'Model name'"
      ],
      "metadata": {
        "colab": {
          "base_uri": "https://localhost:8080/"
        },
        "id": "CK94zk8D8ob8",
        "outputId": "f550dbe9-26e8-4c89-d7af-83f2ce4b0ecb"
      },
      "execution_count": 3,
      "outputs": [
        {
          "output_type": "stream",
          "name": "stdout",
          "text": [
            "Model name:          Intel(R) Xeon(R) CPU @ 2.30GHz\n"
          ]
        }
      ]
    },
    {
      "cell_type": "code",
      "source": [
        "import numpy as np\n",
        "np.random.seed(0) \n",
        "\n",
        "import pycuda.autoinit\n",
        "from pycuda import driver, gpuarray\n",
        "from pycuda.compiler import SourceModule\n",
        "import time"
      ],
      "metadata": {
        "id": "hHPNF72d8tGD"
      },
      "execution_count": 4,
      "outputs": []
    },
    {
      "cell_type": "code",
      "source": [
        "# multiplication functions\n",
        "\n",
        "## GPU\n",
        "mod = SourceModule(\"\"\"\n",
        "        __global__ void mult_gpu(double* A, double* B, double* C, const int N){\n",
        "                const int row =  threadIdx.y + blockIdx.y * blockDim.y;\n",
        "                const int column = threadIdx.x + blockIdx.x * blockDim.x;\n",
        "                for(int i = 0; i < N; i++){\n",
        "                        C[column + row * N] += A[i + row * N] * B[column + i * N];              \n",
        "                }       \n",
        "        }\n",
        "\"\"\")\n",
        "\n",
        "## simple CPU function\n",
        "def mult_cpu(A, B):\n",
        "    C, n  = np.zeros((N, N)), range(N)\n",
        "    for i in n:\n",
        "        for j in n:\n",
        "            for k in n:\n",
        "                C[i, j] += A[i, k] * B[k, j]\n",
        "    return C"
      ],
      "metadata": {
        "id": "uCGjA4VS80Ec",
        "colab": {
          "base_uri": "https://localhost:8080/"
        },
        "outputId": "0b1b2cd0-0d3e-4809-9b33-c65fed948ddc"
      },
      "execution_count": 5,
      "outputs": [
        {
          "output_type": "stream",
          "name": "stderr",
          "text": [
            "/usr/local/lib/python3.7/dist-packages/ipykernel_launcher.py:12: UserWarning: The CUDA compiler succeeded, but said the following:\n",
            "nvcc warning : The 'compute_35', 'compute_37', 'compute_50', 'sm_35', 'sm_37' and 'sm_50' architectures are deprecated, and may be removed in a future release (Use -Wno-deprecated-gpu-targets to suppress warning).\n",
            "\n",
            "  if sys.path[0] == '':\n"
          ]
        }
      ]
    },
    {
      "cell_type": "code",
      "source": [
        "sizes = [128, 256, 512, 1024, 2048]\n",
        "N = sizes[0] # matrix size\n",
        "\n",
        "# matrix\n",
        "A, B, C_gpu= np.random.randn(N, N).astype(np.float), np.random.randn(N, N).astype(np.float), np.ones((N, N)).astype(np.float)"
      ],
      "metadata": {
        "id": "mtCgCH1rAKHq"
      },
      "execution_count": 6,
      "outputs": []
    },
    {
      "cell_type": "code",
      "source": [
        "# GPU multiplication\n",
        "\n",
        "## GPU preparing\n",
        "block_size = [2, 2]\n",
        "block, grid = (block_size[0], block_size[1], 1), (int((N + block_size[0] - 1) / 2), int((N + block_size[1] - 1) / 2))\n",
        "mult = mod.get_function(\"mult_gpu\")\n",
        "\n",
        "\n",
        "## GPU multiplication\n",
        "start_gpu = time.time()\n",
        "mult(driver.In(A), driver.In(B), driver.Out(C_gpu), np.int32(N), block = block, grid = grid)\n",
        "driver.Context.synchronize()\n",
        "time_gpu = time.time() - start_gpu"
      ],
      "metadata": {
        "id": "l4r4qXkrAT3W"
      },
      "execution_count": 7,
      "outputs": []
    },
    {
      "cell_type": "code",
      "source": [
        "# CPU multiplication \n",
        "start_cpu = time.time()\n",
        "C_cpu = mult_cpu(A, B)\n",
        "time_cpu = time.time() - start_cpu"
      ],
      "metadata": {
        "id": "nozrO4rAAZRn"
      },
      "execution_count": 8,
      "outputs": []
    },
    {
      "cell_type": "code",
      "source": [
        "# compare results matrix\n",
        "C_gpu-C_cpu<1e-10"
      ],
      "metadata": {
        "colab": {
          "base_uri": "https://localhost:8080/"
        },
        "id": "ec8PLzmnBXoV",
        "outputId": "8b072404-25f1-42c1-8ea6-494da446db27"
      },
      "execution_count": 9,
      "outputs": [
        {
          "output_type": "execute_result",
          "data": {
            "text/plain": [
              "array([[ True,  True,  True, ...,  True,  True,  True],\n",
              "       [ True,  True,  True, ...,  True,  True,  True],\n",
              "       [ True,  True,  True, ...,  True,  True,  True],\n",
              "       ...,\n",
              "       [ True,  True,  True, ...,  True,  True,  True],\n",
              "       [ True,  True,  True, ...,  True,  True,  True],\n",
              "       [ True,  True,  True, ...,  True,  True,  True]])"
            ]
          },
          "metadata": {},
          "execution_count": 9
        }
      ]
    },
    {
      "cell_type": "code",
      "source": [
        "# results\n",
        "print('CPU time: ', round(time_cpu, 4))\n",
        "print('GPU time: ', round(time_gpu, 4))\n",
        "\n",
        "print('Results converge;  acceleration: ', round(time_cpu/time_gpu, 4)) if np.allclose(C_gpu, C_cpu) else print('Results do not converge')"
      ],
      "metadata": {
        "colab": {
          "base_uri": "https://localhost:8080/"
        },
        "id": "0nplupsYAtbW",
        "outputId": "d952b8ef-4555-492d-a1cb-fa4dc700cb1c"
      },
      "execution_count": 10,
      "outputs": [
        {
          "output_type": "stream",
          "name": "stdout",
          "text": [
            "CPU time:  1.9852\n",
            "GPU time:  0.0084\n",
            "Results converge;  acceleration:  235.6396\n"
          ]
        }
      ]
    },
    {
      "cell_type": "code",
      "source": [
        "# visualization results\n",
        "import seaborn as sns\n",
        "sns.set_theme(style=\"darkgrid\")\n",
        "import pandas as pd\n",
        "\n",
        "\n",
        "cpu_time = [1.932, 15.0544, 119.3973, 966.8306, 7168.1825]\n",
        "gpu_time = [0.0057, 0.0129, 0.1080, 0.7504, 1.2225]\n",
        "acceleration = [338.5331, 1167.0078, 1105.3132, 1288.3547, 5863.5439]\n",
        "\n",
        "result= pd.DataFrame({'cpu_time': cpu_time, 'gpu_time': gpu_time, 'acceleration': acceleration, 'size': sizes})\n",
        "result = result.set_index('size')\n",
        "result.head()"
      ],
      "metadata": {
        "colab": {
          "base_uri": "https://localhost:8080/",
          "height": 238
        },
        "id": "4gePIXitTtQX",
        "outputId": "bc2a3044-7009-484d-ef57-413754efcd1f"
      },
      "execution_count": 11,
      "outputs": [
        {
          "output_type": "execute_result",
          "data": {
            "text/html": [
              "\n",
              "  <div id=\"df-3b969ebe-33de-49e1-909d-e34710b60935\">\n",
              "    <div class=\"colab-df-container\">\n",
              "      <div>\n",
              "<style scoped>\n",
              "    .dataframe tbody tr th:only-of-type {\n",
              "        vertical-align: middle;\n",
              "    }\n",
              "\n",
              "    .dataframe tbody tr th {\n",
              "        vertical-align: top;\n",
              "    }\n",
              "\n",
              "    .dataframe thead th {\n",
              "        text-align: right;\n",
              "    }\n",
              "</style>\n",
              "<table border=\"1\" class=\"dataframe\">\n",
              "  <thead>\n",
              "    <tr style=\"text-align: right;\">\n",
              "      <th></th>\n",
              "      <th>cpu_time</th>\n",
              "      <th>gpu_time</th>\n",
              "      <th>acceleration</th>\n",
              "    </tr>\n",
              "    <tr>\n",
              "      <th>size</th>\n",
              "      <th></th>\n",
              "      <th></th>\n",
              "      <th></th>\n",
              "    </tr>\n",
              "  </thead>\n",
              "  <tbody>\n",
              "    <tr>\n",
              "      <th>128</th>\n",
              "      <td>1.9320</td>\n",
              "      <td>0.0057</td>\n",
              "      <td>338.5331</td>\n",
              "    </tr>\n",
              "    <tr>\n",
              "      <th>256</th>\n",
              "      <td>15.0544</td>\n",
              "      <td>0.0129</td>\n",
              "      <td>1167.0078</td>\n",
              "    </tr>\n",
              "    <tr>\n",
              "      <th>512</th>\n",
              "      <td>119.3973</td>\n",
              "      <td>0.1080</td>\n",
              "      <td>1105.3132</td>\n",
              "    </tr>\n",
              "    <tr>\n",
              "      <th>1024</th>\n",
              "      <td>966.8306</td>\n",
              "      <td>0.7504</td>\n",
              "      <td>1288.3547</td>\n",
              "    </tr>\n",
              "    <tr>\n",
              "      <th>2048</th>\n",
              "      <td>7168.1825</td>\n",
              "      <td>1.2225</td>\n",
              "      <td>5863.5439</td>\n",
              "    </tr>\n",
              "  </tbody>\n",
              "</table>\n",
              "</div>\n",
              "      <button class=\"colab-df-convert\" onclick=\"convertToInteractive('df-3b969ebe-33de-49e1-909d-e34710b60935')\"\n",
              "              title=\"Convert this dataframe to an interactive table.\"\n",
              "              style=\"display:none;\">\n",
              "        \n",
              "  <svg xmlns=\"http://www.w3.org/2000/svg\" height=\"24px\"viewBox=\"0 0 24 24\"\n",
              "       width=\"24px\">\n",
              "    <path d=\"M0 0h24v24H0V0z\" fill=\"none\"/>\n",
              "    <path d=\"M18.56 5.44l.94 2.06.94-2.06 2.06-.94-2.06-.94-.94-2.06-.94 2.06-2.06.94zm-11 1L8.5 8.5l.94-2.06 2.06-.94-2.06-.94L8.5 2.5l-.94 2.06-2.06.94zm10 10l.94 2.06.94-2.06 2.06-.94-2.06-.94-.94-2.06-.94 2.06-2.06.94z\"/><path d=\"M17.41 7.96l-1.37-1.37c-.4-.4-.92-.59-1.43-.59-.52 0-1.04.2-1.43.59L10.3 9.45l-7.72 7.72c-.78.78-.78 2.05 0 2.83L4 21.41c.39.39.9.59 1.41.59.51 0 1.02-.2 1.41-.59l7.78-7.78 2.81-2.81c.8-.78.8-2.07 0-2.86zM5.41 20L4 18.59l7.72-7.72 1.47 1.35L5.41 20z\"/>\n",
              "  </svg>\n",
              "      </button>\n",
              "      \n",
              "  <style>\n",
              "    .colab-df-container {\n",
              "      display:flex;\n",
              "      flex-wrap:wrap;\n",
              "      gap: 12px;\n",
              "    }\n",
              "\n",
              "    .colab-df-convert {\n",
              "      background-color: #E8F0FE;\n",
              "      border: none;\n",
              "      border-radius: 50%;\n",
              "      cursor: pointer;\n",
              "      display: none;\n",
              "      fill: #1967D2;\n",
              "      height: 32px;\n",
              "      padding: 0 0 0 0;\n",
              "      width: 32px;\n",
              "    }\n",
              "\n",
              "    .colab-df-convert:hover {\n",
              "      background-color: #E2EBFA;\n",
              "      box-shadow: 0px 1px 2px rgba(60, 64, 67, 0.3), 0px 1px 3px 1px rgba(60, 64, 67, 0.15);\n",
              "      fill: #174EA6;\n",
              "    }\n",
              "\n",
              "    [theme=dark] .colab-df-convert {\n",
              "      background-color: #3B4455;\n",
              "      fill: #D2E3FC;\n",
              "    }\n",
              "\n",
              "    [theme=dark] .colab-df-convert:hover {\n",
              "      background-color: #434B5C;\n",
              "      box-shadow: 0px 1px 3px 1px rgba(0, 0, 0, 0.15);\n",
              "      filter: drop-shadow(0px 1px 2px rgba(0, 0, 0, 0.3));\n",
              "      fill: #FFFFFF;\n",
              "    }\n",
              "  </style>\n",
              "\n",
              "      <script>\n",
              "        const buttonEl =\n",
              "          document.querySelector('#df-3b969ebe-33de-49e1-909d-e34710b60935 button.colab-df-convert');\n",
              "        buttonEl.style.display =\n",
              "          google.colab.kernel.accessAllowed ? 'block' : 'none';\n",
              "\n",
              "        async function convertToInteractive(key) {\n",
              "          const element = document.querySelector('#df-3b969ebe-33de-49e1-909d-e34710b60935');\n",
              "          const dataTable =\n",
              "            await google.colab.kernel.invokeFunction('convertToInteractive',\n",
              "                                                     [key], {});\n",
              "          if (!dataTable) return;\n",
              "\n",
              "          const docLinkHtml = 'Like what you see? Visit the ' +\n",
              "            '<a target=\"_blank\" href=https://colab.research.google.com/notebooks/data_table.ipynb>data table notebook</a>'\n",
              "            + ' to learn more about interactive tables.';\n",
              "          element.innerHTML = '';\n",
              "          dataTable['output_type'] = 'display_data';\n",
              "          await google.colab.output.renderOutput(dataTable, element);\n",
              "          const docLink = document.createElement('div');\n",
              "          docLink.innerHTML = docLinkHtml;\n",
              "          element.appendChild(docLink);\n",
              "        }\n",
              "      </script>\n",
              "    </div>\n",
              "  </div>\n",
              "  "
            ],
            "text/plain": [
              "       cpu_time  gpu_time  acceleration\n",
              "size                                   \n",
              "128      1.9320    0.0057      338.5331\n",
              "256     15.0544    0.0129     1167.0078\n",
              "512    119.3973    0.1080     1105.3132\n",
              "1024   966.8306    0.7504     1288.3547\n",
              "2048  7168.1825    1.2225     5863.5439"
            ]
          },
          "metadata": {},
          "execution_count": 11
        }
      ]
    },
    {
      "cell_type": "code",
      "source": [
        "sns.lineplot(x=\"size\", y=\"cpu_time\", data=result, color='r')"
      ],
      "metadata": {
        "colab": {
          "base_uri": "https://localhost:8080/",
          "height": 302
        },
        "id": "BJynuC7kSsBE",
        "outputId": "0411f361-6f9b-48c6-987d-591867169cbb"
      },
      "execution_count": 12,
      "outputs": [
        {
          "output_type": "execute_result",
          "data": {
            "text/plain": [
              "<matplotlib.axes._subplots.AxesSubplot at 0x7fc49247f090>"
            ]
          },
          "metadata": {},
          "execution_count": 12
        },
        {
          "output_type": "display_data",
          "data": {
            "image/png": "[encoded data removed]",
            "text/plain": [
              "<Figure size 432x288 with 1 Axes>"
            ]
          },
          "metadata": {}
        }
      ]
    },
    {
      "cell_type": "code",
      "source": [
        "sns.lineplot(x=\"size\", y=\"gpu_time\", data=result, color='g')"
      ],
      "metadata": {
        "colab": {
          "base_uri": "https://localhost:8080/",
          "height": 302
        },
        "id": "yUHg4QufSvTD",
        "outputId": "5d714d47-31d4-41ae-a933-2c342f9d4ddb"
      },
      "execution_count": 13,
      "outputs": [
        {
          "output_type": "execute_result",
          "data": {
            "text/plain": [
              "<matplotlib.axes._subplots.AxesSubplot at 0x7fc48b8ae8d0>"
            ]
          },
          "metadata": {},
          "execution_count": 13
        },
        {
          "output_type": "display_data",
          "data": {
            "image/png": "[encoded data removed]",
            "text/plain": [
              "<Figure size 432x288 with 1 Axes>"
            ]
          },
          "metadata": {}
        }
      ]
    },
    {
      "cell_type": "code",
      "source": [
        "sns.lineplot(x=\"size\", y=\"acceleration\", data=result, color='b')"
      ],
      "metadata": {
        "colab": {
          "base_uri": "https://localhost:8080/",
          "height": 302
        },
        "id": "Cw2ZW2R-SxiK",
        "outputId": "d4b48cca-4ad8-40a0-fdd0-75f83385489f"
      },
      "execution_count": 14,
      "outputs": [
        {
          "output_type": "execute_result",
          "data": {
            "text/plain": [
              "<matplotlib.axes._subplots.AxesSubplot at 0x7fc46b8cf390>"
            ]
          },
          "metadata": {},
          "execution_count": 14
        },
        {
          "output_type": "display_data",
          "data": {
            "image/png": "[encoded data removed]",
            "text/plain": [
              "<Figure size 432x288 with 1 Axes>"
            ]
          },
          "metadata": {}
        }
      ]
    }
  ]
}