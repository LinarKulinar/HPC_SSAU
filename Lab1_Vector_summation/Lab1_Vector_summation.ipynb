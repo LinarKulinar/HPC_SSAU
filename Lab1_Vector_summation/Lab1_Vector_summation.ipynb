{
  "nbformat": 4,
  "nbformat_minor": 0,
  "metadata": {
    "colab": {
      "name": "Lab1_Vector_summation",
      "provenance": [],
      "collapsed_sections": [],
      "include_colab_link": true
    },
    "kernelspec": {
      "name": "python3",
      "display_name": "Python 3"
    },
    "accelerator": "GPU"
  },
  "cells": [
    {
      "cell_type": "markdown",
      "metadata": {
        "id": "view-in-github",
        "colab_type": "text"
      },
      "source": [
        "<a href=\"https://colab.research.google.com/github/LinarKulinar/HPC_SSAU/blob/master/Lab1_Vector_summation/Lab1_Vector_summation.ipynb\" target=\"_parent\"><img src=\"https://colab.research.google.com/assets/colab-badge.svg\" alt=\"Open In Colab\"/></a>"
      ]
    },
    {
      "cell_type": "markdown",
      "source": [
        "**Высокопроизводительные вычисления.**\n",
        "\n",
        "**Лабораторная 1. Сложение векторов на CPU и GPU.**\n",
        "\n",
        "Самарский университет"
      ],
      "metadata": {
        "id": "xNIt8pXK3co4"
      }
    },
    {
      "cell_type": "markdown",
      "source": [
        "В данном блокноте реализован алгоритм сложения векторов для CPU и для GPU.\n",
        "\n",
        "Для выполнения кода на C на GPU используется библиотека PyCuda.\n",
        "\n",
        "Данный код запущен в среде Google Colaboratory."
      ],
      "metadata": {
        "id": "8_OLzfKf3csd"
      }
    },
    {
      "cell_type": "code",
      "metadata": {
        "colab": {
          "base_uri": "https://localhost:8080/"
        },
        "id": "v-n9X5wWjRz_",
        "outputId": "51c9ab4d-e649-442e-f51c-21885a9a9f99"
      },
      "source": [
        "! pip install pycuda"
      ],
      "execution_count": 1,
      "outputs": [
        {
          "output_type": "stream",
          "name": "stdout",
          "text": [
            "Collecting pycuda\n",
            "  Downloading pycuda-2021.1.tar.gz (1.7 MB)\n",
            "\u001b[K     |████████████████████████████████| 1.7 MB 5.5 MB/s \n",
            "\u001b[?25h  Installing build dependencies ... \u001b[?25l\u001b[?25hdone\n",
            "  Getting requirements to build wheel ... \u001b[?25l\u001b[?25hdone\n",
            "    Preparing wheel metadata ... \u001b[?25l\u001b[?25hdone\n",
            "Collecting pytools>=2011.2\n",
            "  Downloading pytools-2021.2.9.tar.gz (66 kB)\n",
            "\u001b[K     |████████████████████████████████| 66 kB 4.7 MB/s \n",
            "\u001b[?25hRequirement already satisfied: appdirs>=1.4.0 in /usr/local/lib/python3.7/dist-packages (from pycuda) (1.4.4)\n",
            "Collecting mako\n",
            "  Downloading Mako-1.1.6-py2.py3-none-any.whl (75 kB)\n",
            "\u001b[K     |████████████████████████████████| 75 kB 4.2 MB/s \n",
            "\u001b[?25hRequirement already satisfied: numpy>=1.6.0 in /usr/local/lib/python3.7/dist-packages (from pytools>=2011.2->pycuda) (1.19.5)\n",
            "Requirement already satisfied: MarkupSafe>=0.9.2 in /usr/local/lib/python3.7/dist-packages (from mako->pycuda) (2.0.1)\n",
            "Building wheels for collected packages: pycuda, pytools\n",
            "  Building wheel for pycuda (PEP 517) ... \u001b[?25l\u001b[?25hdone\n",
            "  Created wheel for pycuda: filename=pycuda-2021.1-cp37-cp37m-linux_x86_64.whl size=626633 sha256=6736a2d889f29037e50618523b8cbe1a61912a5f0870a9a95ee9d790d4e18dd0\n",
            "  Stored in directory: /root/.cache/pip/wheels/c4/ef/49/dc6a5feb8d980b37c83d465ecab24949a6aa19458522a9e001\n",
            "  Building wheel for pytools (setup.py) ... \u001b[?25l\u001b[?25hdone\n",
            "  Created wheel for pytools: filename=pytools-2021.2.9-py2.py3-none-any.whl size=62370 sha256=116bb471fa75df9e5e9b50797d5ab0fb650da8e04da8afc2d648f1256eb65d76\n",
            "  Stored in directory: /root/.cache/pip/wheels/41/b9/6e/94bb014f6484b15ec77e7877f3a227609481ffd98db364504d\n",
            "Successfully built pycuda pytools\n",
            "Installing collected packages: pytools, mako, pycuda\n",
            "Successfully installed mako-1.1.6 pycuda-2021.1 pytools-2021.2.9\n"
          ]
        }
      ]
    },
    {
      "cell_type": "code",
      "source": [
        "!nvidia-smi"
      ],
      "metadata": {
        "colab": {
          "base_uri": "https://localhost:8080/"
        },
        "id": "mhnJgV_VSMdl",
        "outputId": "db4b1766-7195-4bb6-9624-7cb89cb351d0"
      },
      "execution_count": 2,
      "outputs": [
        {
          "output_type": "stream",
          "name": "stdout",
          "text": [
            "Sun Jan  9 15:51:34 2022       \n",
            "+-----------------------------------------------------------------------------+\n",
            "| NVIDIA-SMI 495.44       Driver Version: 460.32.03    CUDA Version: 11.2     |\n",
            "|-------------------------------+----------------------+----------------------+\n",
            "| GPU  Name        Persistence-M| Bus-Id        Disp.A | Volatile Uncorr. ECC |\n",
            "| Fan  Temp  Perf  Pwr:Usage/Cap|         Memory-Usage | GPU-Util  Compute M. |\n",
            "|                               |                      |               MIG M. |\n",
            "|===============================+======================+======================|\n",
            "|   0  Tesla K80           Off  | 00000000:00:04.0 Off |                    0 |\n",
            "| N/A   67C    P8    34W / 149W |      0MiB / 11441MiB |      0%      Default |\n",
            "|                               |                      |                  N/A |\n",
            "+-------------------------------+----------------------+----------------------+\n",
            "                                                                               \n",
            "+-----------------------------------------------------------------------------+\n",
            "| Processes:                                                                  |\n",
            "|  GPU   GI   CI        PID   Type   Process name                  GPU Memory |\n",
            "|        ID   ID                                                   Usage      |\n",
            "|=============================================================================|\n",
            "|  No running processes found                                                 |\n",
            "+-----------------------------------------------------------------------------+\n"
          ]
        }
      ]
    },
    {
      "cell_type": "code",
      "metadata": {
        "id": "zHpxjvTD6xmw"
      },
      "source": [
        "import numpy as np\n",
        "import time\n",
        "\n",
        "import pycuda.gpuarray as gpuarray\n",
        "import pycuda.autoinit\n",
        "from  pycuda import  driver\n",
        "from pycuda.compiler import SourceModule"
      ],
      "execution_count": 3,
      "outputs": []
    },
    {
      "cell_type": "markdown",
      "source": [
        "Определяем функцию сложения векторов на C, которая будет выполняться на GPU"
      ],
      "metadata": {
        "id": "EyAqTu9jh9Kk"
      }
    },
    {
      "cell_type": "code",
      "metadata": {
        "id": "h_Cr02Ct6_gl",
        "colab": {
          "base_uri": "https://localhost:8080/"
        },
        "outputId": "7bb06536-650d-4013-d48f-c4a1ec5a39a0"
      },
      "source": [
        "mod = SourceModule(\"\"\"\n",
        "  __global__ void vec_sum_gpu(double *x, double *y, double *c_gpu, const int n) {  \n",
        "      int idx = threadIdx.x + (blockIdx.x*blockDim.x);\n",
        "      c_gpu[idx] = x[idx] + y[idx];\n",
        "  }    \n",
        "\"\"\")"
      ],
      "execution_count": 4,
      "outputs": [
        {
          "output_type": "stream",
          "name": "stderr",
          "text": [
            "/usr/local/lib/python3.7/dist-packages/ipykernel_launcher.py:6: UserWarning: The CUDA compiler succeeded, but said the following:\n",
            "nvcc warning : The 'compute_35', 'compute_37', 'compute_50', 'sm_35', 'sm_37' and 'sm_50' architectures are deprecated, and may be removed in a future release (Use -Wno-deprecated-gpu-targets to suppress warning).\n",
            "\n",
            "  \n"
          ]
        }
      ]
    },
    {
      "cell_type": "markdown",
      "source": [
        "Определяем функцию сложения векторов на python, которая будет выполняться на CPU"
      ],
      "metadata": {
        "id": "GyLFcSFiiBnO"
      }
    },
    {
      "cell_type": "code",
      "metadata": {
        "id": "Q9WLFdwKBLvE"
      },
      "source": [
        "def vec_sum_cpu(x, y, n):\n",
        "  c = npa.zeros(n)\n",
        "  for i in range(n):\n",
        "    c[i] = x[i] + y[i]\n",
        "  return c"
      ],
      "execution_count": 5,
      "outputs": []
    },
    {
      "cell_type": "markdown",
      "source": [
        "Вводим входные параметры задачи - размеры складываемых массивов"
      ],
      "metadata": {
        "id": "5qsYw-O6iPeK"
      }
    },
    {
      "cell_type": "code",
      "metadata": {
        "id": "PKVZouZREQTM"
      },
      "source": [
        "def generate_data():a\n",
        "  n = int(input('Введите размер векторов = '))\n",
        "\n",
        "  x = np.random.randn(n).astype(np.float)\n",
        "  y = np.random.randn(n).astype(np.float)\n",
        "  print('Сгенерированные массивы: \\n', x, '\\n', y)\n",
        "  return x, y, n"
      ],
      "execution_count": 6,
      "outputs": []
    },
    {
      "cell_type": "code",
      "metadata": {
        "colab": {
          "base_uri": "https://localhost:8080/"
        },
        "id": "Vpq4NN11EbW-",
        "outputId": "3156bf81-b7e1-490b-8f67-c5e71ca58a24"
      },
      "source": [
        "x, y, n = generate_data()"
      ],
      "execution_count": 7,
      "outputs": [
        {
          "output_type": "stream",
          "name": "stdout",
          "text": [
            "Введите размер векторов = 10000\n",
            "Сгенерированные массивы: \n",
            " [ 0.09064856  0.0643606   1.98671676 ... -0.02244204  0.02321446\n",
            " -1.41029957] \n",
            " [-0.32766814 -0.58891653  0.99948161 ...  1.75017245  0.40300409\n",
            "  1.38901357]\n"
          ]
        }
      ]
    },
    {
      "cell_type": "markdown",
      "source": [
        "Вычисляем на CPU, замеряя время"
      ],
      "metadata": {
        "id": "iJGguAVBiVt3"
      }
    },
    {
      "cell_type": "code",
      "metadata": {
        "id": "Odxn3tNfE7v7",
        "colab": {
          "base_uri": "https://localhost:8080/"
        },
        "outputId": "76f87447-1b25-4c65-a908-0f0808ac8cd0"
      },
      "source": [
        "cpu_start = time.time()\n",
        "result_cpu = vec_sum_cpu(x,y, n)\n",
        "cpu_time = time.time() - cpu_startф\n",
        "print('Результирующий вектор: ', result_cpu)\n",
        "print('Время на CPU: ', round(cpu_time,4))"
      ],
      "execution_count": 8,
      "outputs": [
        {
          "output_type": "stream",
          "name": "stdout",
          "text": [
            "Результирующий вектор:  [-0.23701958 -0.52455593  2.98619838 ...  1.72773041  0.42621855\n",
            " -0.021286  ]\n",
            "Время на CPU:  0.0105\n"
          ]
        }
      ]
    },
    {
      "cell_type": "markdown",
      "source": [
        "Вычисляем на GPU, замеряя время"
      ],
      "metadata": {
        "id": "BkDztU4kidGU"
      }
    },
    {
      "cell_type": "code",
      "metadata": {
        "id": "VPZrS4rdH7Q_",
        "colab": {
          "base_uri": "https://localhost:8080/"
        },
        "outputId": "8ee25ac2-dd30-4f04-9d6c-d6794b20a8e3"
      },
      "source": [
        "# т.к. массивы являются одномерными\n",
        "block_size = 128\n",
        "block = (block_size, 1, 1)\n",
        "grid = (int((n + block_size - 1) / block_size), 1)\n",
        "block, grid"
      ],
      "execution_count": 9,
      "outputs": [
        {
          "output_type": "execute_result",
          "data": {
            "text/plain": [
              "((128, 1, 1), (79, 1))"
            ]
          },
          "metadata": {},
          "execution_count": 9
        }
      ]
    },
    {
      "cell_type": "code",
      "metadata": {
        "id": "mxbylC24InsG",
        "colab": {
          "base_uri": "https://localhost:8080/"
        },
        "outputId": "71e4e203-62f2-4e42-c3c2-37e519af567c"
      },
      "source": [
        "# c_gpu = np.ones(n).astype(np.float)\n",
        "result_gpu = gpuarray.zeros((n), dtype=np.double)\n",
        "result_gpu  = result_gpu.get()\n",
        "\n",
        "vec_sum_gpu = mod.get_function(\"vec_sum_gpu\")\n",
        "\n",
        "gpu_start = time.time()\n",
        "vec_sum_gpu(driver.In(x), driver.In(y), driver.Out(result_gpu), np.int32(n), block = block, grid = grid)\n",
        "driver.Context.synchronize()\n",
        "gpu_time = time.time() - gpu_start\n",
        "\n",
        "print('Результирующий вектор: ', result_gpu)\n",
        "print('Время на GPU: ', round(gpu_time,4))"
      ],
      "execution_count": 10,
      "outputs": [
        {
          "output_type": "stream",
          "name": "stdout",
          "text": [
            "Результирующий вектор:  [-0.23701958 -0.52455593  2.98619838 ...  1.72773041  0.42621855\n",
            " -0.021286  ]\n",
            "Время на GPU:  0.0009\n"
          ]
        },
        {
          "output_type": "stream",
          "name": "stderr",
          "text": [
            "/usr/local/lib/python3.7/dist-packages/pycuda/elementwise.py:82: UserWarning: The CUDA compiler succeeded, but said the following:\n",
            "nvcc warning : The 'compute_35', 'compute_37', 'compute_50', 'sm_35', 'sm_37' and 'sm_50' architectures are deprecated, and may be removed in a future release (Use -Wno-deprecated-gpu-targets to suppress warning).\n",
            "\n",
            "  no_extern_c=True,\n"
          ]
        }
      ]
    },
    {
      "cell_type": "markdown",
      "source": [
        "Выводим результаты"
      ],
      "metadata": {
        "id": "U1f-XoDDihcA"
      }
    },
    {
      "cell_type": "code",
      "metadata": {
        "id": "iOsEv3RKOGwM",
        "colab": {
          "base_uri": "https://localhost:8080/"
        },
        "outputId": "64d40b6a-4876-4a38-9ccb-e9a0e7bce74d"
      },
      "source": [
        "print('Vector size: ', n)\n",
        "print('Results converge;  acceleration: ', round(cpu_time/gpu_time, 4)) if np.allclose(result_gpu, result_cpu) else print('Results do not converge')\n",
        "\n",
        "print('Time on GPU: ', round(gpu_time,4))\n",
        "print('Time on CPU: ', round(cpu_time,4))"
      ],
      "execution_count": 12,
      "outputs": [
        {
          "output_type": "stream",
          "name": "stdout",
          "text": [
            "Vector size:  10000\n",
            "Results converge;  acceleration:  11.7236\n",
            "Time on GPU:  0.0009\n",
            "Time on CPU:  0.0105\n"
          ]
        }
      ]
    },
    {
      "cell_type": "code",
      "source": [
        ""
      ],
      "metadata": {
        "id": "PHyna8zYhWJm"
      },
      "execution_count": 11,
      "outputs": []
    }
  ]
}