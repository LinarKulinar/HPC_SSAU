{
  "nbformat": 4,
  "nbformat_minor": 0,
  "metadata": {
    "colab": {
      "name": "Bilateral_filtering.ipynb",
      "provenance": [],
      "machine_shape": "hm",
      "include_colab_link": true
    },
    "kernelspec": {
      "name": "python3",
      "display_name": "Python 3"
    },
    "accelerator": "GPU"
  },
  "cells": [
    {
      "cell_type": "markdown",
      "metadata": {
        "id": "view-in-github",
        "colab_type": "text"
      },
      "source": [
        "<a href=\"https://colab.research.google.com/github/LinarKulinar/HPC_SSAU/blob/master/Lab2_Bilateral_filtering/Bilateral_filtering.ipynb\" target=\"_parent\"><img src=\"https://colab.research.google.com/assets/colab-badge.svg\" alt=\"Open In Colab\"/></a>"
      ]
    },
    {
      "cell_type": "markdown",
      "source": [
        "**Высокопроизводительные вычисления.**\n",
        "\n",
        "**Лабораторная 2. Bilateral filter на CPU и GPU.**\n",
        "\n",
        "Самарский Университет"
      ],
      "metadata": {
        "id": "eunUytuUJJeJ"
      }
    },
    {
      "cell_type": "markdown",
      "source": [
        "В данном блокноте реализован алгоритм bilateral фильтрации изображения на языке python для CPU и для GPU.\n",
        "\n",
        "Для алгоритма на GPU используется библиотека PyCuda.\n",
        "\n",
        "Данный код запущен в среде Google Colaboratory:"
      ],
      "metadata": {
        "id": "ak150HsuJJoE"
      }
    },
    {
      "cell_type": "code",
      "metadata": {
        "id": "IGTwvEVbQb_V",
        "outputId": "cea3e562-b8c1-401f-cecd-fd7a4f18d89b",
        "colab": {
          "base_uri": "https://localhost:8080/"
        }
      },
      "source": [
        "# установка pycuda\n",
        "! pip install pycuda"
      ],
      "execution_count": 1,
      "outputs": [
        {
          "output_type": "stream",
          "name": "stdout",
          "text": [
            "Collecting pycuda\n",
            "  Downloading pycuda-2021.1.tar.gz (1.7 MB)\n",
            "\u001b[K     |████████████████████████████████| 1.7 MB 5.3 MB/s \n",
            "\u001b[?25h  Installing build dependencies ... \u001b[?25l\u001b[?25hdone\n",
            "  Getting requirements to build wheel ... \u001b[?25l\u001b[?25hdone\n",
            "    Preparing wheel metadata ... \u001b[?25l\u001b[?25hdone\n",
            "Collecting pytools>=2011.2\n",
            "  Downloading pytools-2021.2.9.tar.gz (66 kB)\n",
            "\u001b[K     |████████████████████████████████| 66 kB 4.3 MB/s \n",
            "\u001b[?25hRequirement already satisfied: appdirs>=1.4.0 in /usr/local/lib/python3.7/dist-packages (from pycuda) (1.4.4)\n",
            "Collecting mako\n",
            "  Downloading Mako-1.1.6-py2.py3-none-any.whl (75 kB)\n",
            "\u001b[K     |████████████████████████████████| 75 kB 3.6 MB/s \n",
            "\u001b[?25hRequirement already satisfied: numpy>=1.6.0 in /usr/local/lib/python3.7/dist-packages (from pytools>=2011.2->pycuda) (1.19.5)\n",
            "Requirement already satisfied: MarkupSafe>=0.9.2 in /usr/local/lib/python3.7/dist-packages (from mako->pycuda) (2.0.1)\n",
            "Building wheels for collected packages: pycuda, pytools\n",
            "  Building wheel for pycuda (PEP 517) ... \u001b[?25l\u001b[?25hdone\n",
            "  Created wheel for pycuda: filename=pycuda-2021.1-cp37-cp37m-linux_x86_64.whl size=626633 sha256=3aa18e79b7ac14e44a3b3a90d0ecf3400142992dba8a6a61f00d2b490175a3ac\n",
            "  Stored in directory: /root/.cache/pip/wheels/c4/ef/49/dc6a5feb8d980b37c83d465ecab24949a6aa19458522a9e001\n",
            "  Building wheel for pytools (setup.py) ... \u001b[?25l\u001b[?25hdone\n",
            "  Created wheel for pytools: filename=pytools-2021.2.9-py2.py3-none-any.whl size=62370 sha256=b7994ac9b93254bdee96f14d8bd093a52ee09e598afc45a70bd5fa45bcb38531\n",
            "  Stored in directory: /root/.cache/pip/wheels/41/b9/6e/94bb014f6484b15ec77e7877f3a227609481ffd98db364504d\n",
            "Successfully built pycuda pytools\n",
            "Installing collected packages: pytools, mako, pycuda\n",
            "Successfully installed mako-1.1.6 pycuda-2021.1 pytools-2021.2.9\n"
          ]
        }
      ]
    },
    {
      "cell_type": "code",
      "metadata": {
        "id": "CvxXti45Qtia"
      },
      "source": [
        "# импорт библиотек, необходимых для работы\n",
        "\n",
        "import numpy as np\n",
        "np.random.seed(0) \n",
        "\n",
        "import pycuda.autoinit\n",
        "import pycuda.driver as drv\n",
        "from pycuda.compiler import SourceModule\n",
        "import time\n",
        "import cv2\n",
        "\n",
        "# т.к. колаб не отображет cv2.imshow, то для воспользуемся cv2_imshow\n",
        "from google.colab.patches import cv2_imshow"
      ],
      "execution_count": 2,
      "outputs": []
    },
    {
      "cell_type": "code",
      "metadata": {
        "id": "bK-IDjghayuK",
        "colab": {
          "base_uri": "https://localhost:8080/"
        },
        "outputId": "27b945b0-dcd4-4828-eb44-a103739bab05"
      },
      "source": [
        "# CPU функция\n",
        "def bilateral_filtering_cpu(im, sigma_r, sigma_d):\n",
        "    result = np.zeros((im.shape[0], im.shape[1]))\n",
        "    for i in range(1, im.shape[0] - 1):\n",
        "        for j in range(1, im.shape[1] - 1):\n",
        "            c, s = 0, 0\n",
        "            for k in range(i-1, i+2):\n",
        "                for l in range(j-1, j+2):\n",
        "                    g = np.exp(-((k - i) ** 2 + (l - j) ** 2) / sigma_d ** 2)\n",
        "                    r = np.exp(-(im[k, l] - im[i, j]) ** 2 / sigma_r ** 2)\n",
        "                    c += g*r \n",
        "                    s +=   g*r*im[k, l]\n",
        "            result[i, j] = s / c\n",
        "    return result\n",
        "\n",
        "\n",
        "# GPU функция\n",
        "mod = SourceModule(\"\"\"\n",
        "texture<unsigned int, 2, cudaReadModeElementType> tex;\n",
        "\n",
        "__global__ void bilateral_filtering_gpu(unsigned int* result, const int M, const int N, const float sigma_d, const float sigma_r)\n",
        "{   \n",
        "    const int i = threadIdx.x + blockDim.x * blockIdx.x;\n",
        "    const int j = threadIdx.y + blockDim.y * blockIdx.y;\n",
        "    if ((i < M) && (j < N)) {\n",
        "            float s = 0;\n",
        "            float c = 0;\n",
        "            for (int l = i - 1; l <= i + 1; l++){\n",
        "                for (int k = j - 1; k <= j + 1; k++){\n",
        "                    float img1 = tex2D(tex, k, l) / 255;\n",
        "                    float img2 = tex2D(tex, i, j) / 255;\n",
        "                    float g = exp(-(pow(k - i, 2) + pow(l - j, 2)) / pow(sigma_d, 2));\n",
        "                    float r = exp(-pow((img1 - img2) * 255, 2) / pow(sigma_r, 2));\n",
        "                    c += g * r;\n",
        "                    s += g * r * tex2D(tex, k, l);\n",
        "                }\n",
        "            }\n",
        "            result[i * N + j] = s / c;\n",
        "        }\n",
        "}\n",
        "\"\"\")"
      ],
      "execution_count": 3,
      "outputs": [
        {
          "output_type": "stream",
          "name": "stderr",
          "text": [
            "/usr/local/lib/python3.7/dist-packages/ipykernel_launcher.py:41: UserWarning: The CUDA compiler succeeded, but said the following:\n",
            "nvcc warning : The 'compute_35', 'compute_37', 'compute_50', 'sm_35', 'sm_37' and 'sm_50' architectures are deprecated, and may be removed in a future release (Use -Wno-deprecated-gpu-targets to suppress warning).\n",
            "\n"
          ]
        }
      ]
    },
    {
      "cell_type": "code",
      "metadata": {
        "id": "TFYuNuN_AcKr",
        "colab": {
          "base_uri": "https://localhost:8080/"
        },
        "outputId": "b6fa6008-50c8-490b-b0c7-f571c2909ed4"
      },
      "source": [
        "# ввод данных\n",
        "\n",
        "def read_data():\n",
        "  image_url = 'input.png'\n",
        "  print('Sigma_r = ')\n",
        "  sigma_r = input()\n",
        "  print('Sigma_d = ')\n",
        "  sigma_d = input()\n",
        "  return image_url, float(sigma_r), float(sigma_d)\n",
        "\n",
        "image_url, sigma_r, sigma_d  = read_data()\n",
        "image = cv2.imread(image_url, cv2.IMREAD_GRAYSCALE)"
      ],
      "execution_count": 8,
      "outputs": [
        {
          "name": "stdout",
          "output_type": "stream",
          "text": [
            "Sigma_r = \n",
            "1000\n",
            "Sigma_d = \n",
            "1000\n"
          ]
        }
      ]
    },
    {
      "cell_type": "markdown",
      "metadata": {
        "id": "g0CQCQ7bs2Fl"
      },
      "source": [
        "Исходное изображение:"
      ]
    },
    {
      "cell_type": "code",
      "metadata": {
        "id": "Oy4eMUXzWONt",
        "outputId": "3ccfe0fa-b9ad-485a-fea2-89bd44104c6f",
        "colab": {
          "base_uri": "https://localhost:8080/",
          "height": 218
        }
      },
      "source": [
        "cv2_imshow(image)"
      ],
      "execution_count": 9,
      "outputs": [
        {
          "output_type": "display_data",
          "data": {
            "image/png": "[encoded data removed]",
            "text/plain": [
              "<PIL.Image.Image image mode=L size=300x201 at 0x7F535004DA50>"
            ]
          },
          "metadata": {}
        }
      ]
    },
    {
      "cell_type": "code",
      "metadata": {
        "id": "yUHexwlDCCKe"
      },
      "source": [
        "N, M = image.shape[0], image.shape[1]\n",
        "\n",
        "block_size = (8, 8, 1)\n",
        "grid_size = (int(np.ceil(N/block_size[0])),int(np.ceil(M/block_size[1])))"
      ],
      "execution_count": 10,
      "outputs": []
    },
    {
      "cell_type": "markdown",
      "source": [
        "# Новый раздел"
      ],
      "metadata": {
        "id": "H1d75TulFJto"
      }
    },
    {
      "cell_type": "code",
      "metadata": {
        "id": "6FczmUYpCKIh",
        "outputId": "7584015d-d9c5-4863-a085-24f6d597df54",
        "colab": {
          "base_uri": "https://localhost:8080/"
        }
      },
      "source": [
        "start_cpu = time.time()\n",
        "result = bilateral_filtering_cpu(image, sigma_r, sigma_d)\n",
        "cpu_time = time.time() - start_cpu\n",
        "\n",
        "cv2.imwrite('res_cpu.bmp', result)"
      ],
      "execution_count": 11,
      "outputs": [
        {
          "output_type": "stream",
          "name": "stderr",
          "text": [
            "/usr/local/lib/python3.7/dist-packages/ipykernel_launcher.py:10: RuntimeWarning: overflow encountered in ubyte_scalars\n",
            "  # Remove the CWD from sys.path while we load stuff.\n"
          ]
        },
        {
          "output_type": "execute_result",
          "data": {
            "text/plain": [
              "True"
            ]
          },
          "metadata": {},
          "execution_count": 11
        }
      ]
    },
    {
      "cell_type": "markdown",
      "metadata": {
        "id": "5yHfqy05u7jK"
      },
      "source": [
        "Результат CPU:"
      ]
    },
    {
      "cell_type": "code",
      "metadata": {
        "id": "Rx_KFm20aJ2s",
        "outputId": "789e04a3-bf19-42cf-f2b5-2ec0003cf905",
        "colab": {
          "base_uri": "https://localhost:8080/",
          "height": 218
        }
      },
      "source": [
        "cv2_imshow(result)"
      ],
      "execution_count": 12,
      "outputs": [
        {
          "output_type": "display_data",
          "data": {
            "image/png": "[encoded data removed]",
            "text/plain": [
              "<PIL.Image.Image image mode=L size=300x201 at 0x7F53500CA950>"
            ]
          },
          "metadata": {}
        }
      ]
    },
    {
      "cell_type": "code",
      "metadata": {
        "id": "bAwp-PGJxIoW",
        "outputId": "268f90f7-fd1e-4fe2-a0b4-b8d7d8c8a8c2",
        "colab": {
          "base_uri": "https://localhost:8080/"
        }
      },
      "source": [
        "result_gpu = np.zeros((N, M), dtype = np.uint32)\n",
        "\n",
        "bilateral_filtering_gpu = mod.get_function(\"bilateral_filtering_gpu\")\n",
        "\n",
        "start_gpu = time.time()\n",
        "tex = mod.get_texref(\"tex\")\n",
        "tex.set_filter_mode(drv.filter_mode.LINEAR)\n",
        "tex.set_address_mode(0, drv.address_mode.MIRROR)\n",
        "tex.set_address_mode(1, drv.address_mode.MIRROR)\n",
        "drv.matrix_to_texref(image.astype(np.uint32), tex, order=\"C\")\n",
        "bilateral_filtering_gpu(drv.Out(result_gpu), np.int32(N), np.int32(M), np.float32(sigma_r), np.float32(sigma_d), block=block_size, grid=grid_size, texrefs=[tex])\n",
        "drv.Context.synchronize()\n",
        "time_gpu = time.time() - start_gpu\n",
        "\n",
        "cv2.imwrite('res_gpu.bmp', result_gpu.astype(np.uint8))"
      ],
      "execution_count": 13,
      "outputs": [
        {
          "output_type": "execute_result",
          "data": {
            "text/plain": [
              "True"
            ]
          },
          "metadata": {},
          "execution_count": 13
        }
      ]
    },
    {
      "cell_type": "markdown",
      "metadata": {
        "id": "1bw1sFG8u-nB"
      },
      "source": [
        "Результат GPU:"
      ]
    },
    {
      "cell_type": "code",
      "metadata": {
        "id": "l9_f168waPVR",
        "outputId": "baa926d2-2d87-4852-bbbc-5ef13c3fbae2",
        "colab": {
          "base_uri": "https://localhost:8080/",
          "height": 218
        }
      },
      "source": [
        "cv2_imshow(result_gpu)"
      ],
      "execution_count": 14,
      "outputs": [
        {
          "output_type": "display_data",
          "data": {
            "image/png": "[encoded data removed]",
            "text/plain": [
              "<PIL.Image.Image image mode=L size=300x201 at 0x7F5337D88A90>"
            ]
          },
          "metadata": {}
        }
      ]
    },
    {
      "cell_type": "code",
      "metadata": {
        "id": "fWhjx7dMg0ar",
        "outputId": "b721e1d4-1117-4dc8-9a8c-b1aecccc200b",
        "colab": {
          "base_uri": "https://localhost:8080/"
        }
      },
      "source": [
        "result_gpu.astype(np.uint8)"
      ],
      "execution_count": 15,
      "outputs": [
        {
          "output_type": "execute_result",
          "data": {
            "text/plain": [
              "array([[157, 157, 157, ..., 169, 168, 167],\n",
              "       [156, 156, 155, ..., 168, 167, 166],\n",
              "       [154, 153, 153, ..., 166, 165, 164],\n",
              "       ...,\n",
              "       [146, 145, 144, ..., 100,  99,  98],\n",
              "       [144, 143, 142, ...,  99,  98,  96],\n",
              "       [139, 139, 138, ...,  99,  98,  96]], dtype=uint8)"
            ]
          },
          "metadata": {},
          "execution_count": 15
        }
      ]
    },
    {
      "cell_type": "code",
      "metadata": {
        "id": "TjW5i7NNDy5Q",
        "outputId": "6d4fb5b0-22f6-4106-b360-f89f54a2b5fb",
        "colab": {
          "base_uri": "https://localhost:8080/"
        }
      },
      "source": [
        "print('Время CPU: ', cpu_time)\n",
        "print('Время GPU: ',time_gpu)\n",
        "print('CPU/GPU:', cpu_time/time_gpu)"
      ],
      "execution_count": 16,
      "outputs": [
        {
          "output_type": "stream",
          "name": "stdout",
          "text": [
            "Время CPU:  6.495061635971069\n",
            "Время GPU:  0.004042148590087891\n",
            "CPU/GPU: 1606.8339624867288\n"
          ]
        }
      ]
    },
    {
      "cell_type": "code",
      "source": [
        ""
      ],
      "metadata": {
        "id": "Mfj4GlDfKVmb"
      },
      "execution_count": 16,
      "outputs": []
    }
  ]
}